{
  "nbformat": 4,
  "nbformat_minor": 0,
  "metadata": {
    "colab": {
      "provenance": [],
      "authorship_tag": "ABX9TyNQjXKq6C1JyT/h4NJTLY7b",
      "include_colab_link": true
    },
    "kernelspec": {
      "name": "python3",
      "display_name": "Python 3"
    },
    "language_info": {
      "name": "python"
    }
  },
  "cells": [
    {
      "cell_type": "markdown",
      "metadata": {
        "id": "view-in-github",
        "colab_type": "text"
      },
      "source": [
        "<a href=\"https://colab.research.google.com/github/aslbekrazzoqberdi/Colab_data/blob/main/Pandas_Tutorial_1.ipynb\" target=\"_parent\"><img src=\"https://colab.research.google.com/assets/colab-badge.svg\" alt=\"Open In Colab\"/></a>"
      ]
    },
    {
      "cell_type": "code",
      "execution_count": null,
      "metadata": {
        "id": "pmPXk-jZPSGg"
      },
      "outputs": [],
      "source": []
    },
    {
      "cell_type": "markdown",
      "source": [],
      "metadata": {
        "id": "YlA8v3rNSBHA"
      }
    },
    {
      "cell_type": "code",
      "source": [],
      "metadata": {
        "id": "DpR7woueSC2H"
      },
      "execution_count": null,
      "outputs": []
    },
    {
      "cell_type": "code",
      "source": [
        "import pandas"
      ],
      "metadata": {
        "id": "lqKk_K4tPj9w"
      },
      "execution_count": null,
      "outputs": []
    },
    {
      "cell_type": "code",
      "source": [
        "mydata = {\n",
        "    'cars': [\"bmw\",\"Volvo\",\"Ford\"],\n",
        "    'price' : [300,400,600]\n",
        "}\n",
        "\n",
        "myvar = pandas.DataFrame(mydata)"
      ],
      "metadata": {
        "id": "HP0JzFD6PqAV"
      },
      "execution_count": null,
      "outputs": []
    },
    {
      "cell_type": "code",
      "source": [
        "print(myvar)"
      ],
      "metadata": {
        "colab": {
          "base_uri": "https://localhost:8080/"
        },
        "id": "dTuVzCkmQHkw",
        "outputId": "ade57212-67e6-49ff-f9c2-40ed096a620a"
      },
      "execution_count": null,
      "outputs": [
        {
          "output_type": "stream",
          "name": "stdout",
          "text": [
            "    cars  price\n",
            "0    bmw    300\n",
            "1  Volvo    400\n",
            "2   Ford    600\n"
          ]
        }
      ]
    },
    {
      "cell_type": "code",
      "source": [
        "print(pandas.__version__)\n"
      ],
      "metadata": {
        "colab": {
          "base_uri": "https://localhost:8080/"
        },
        "id": "p0y4sZHpQYK0",
        "outputId": "7d702f3b-5fee-424d-e5f1-3b9e243d8013"
      },
      "execution_count": null,
      "outputs": [
        {
          "output_type": "stream",
          "name": "stdout",
          "text": [
            "1.5.3\n"
          ]
        }
      ]
    },
    {
      "cell_type": "code",
      "source": [],
      "metadata": {
        "id": "NROgcPElQvoG"
      },
      "execution_count": null,
      "outputs": []
    },
    {
      "cell_type": "markdown",
      "source": [
        "### WHAT IS THE SERIAS\n"
      ],
      "metadata": {
        "id": "zY9cRTJRQv_0"
      }
    },
    {
      "cell_type": "code",
      "source": [
        "import pandas as pd"
      ],
      "metadata": {
        "id": "cl57eZlmQ0QP"
      },
      "execution_count": null,
      "outputs": []
    },
    {
      "cell_type": "code",
      "source": [
        "a = [1, 7, 2]\n",
        "\n",
        "myvar2 = pd.Series(a)\n",
        "\n",
        "print(myvar2)"
      ],
      "metadata": {
        "colab": {
          "base_uri": "https://localhost:8080/"
        },
        "id": "ZkgMWqMQQ6cM",
        "outputId": "98fd658e-28fa-4d2e-d8b3-a81a211c596c"
      },
      "execution_count": null,
      "outputs": [
        {
          "output_type": "stream",
          "name": "stdout",
          "text": [
            "0    1\n",
            "1    7\n",
            "2    2\n",
            "dtype: int64\n"
          ]
        }
      ]
    },
    {
      "cell_type": "markdown",
      "source": [
        "### Create Labels\n"
      ],
      "metadata": {
        "id": "fFWQinGYSFrY"
      }
    },
    {
      "cell_type": "code",
      "source": [
        "print(a)"
      ],
      "metadata": {
        "colab": {
          "base_uri": "https://localhost:8080/"
        },
        "id": "6N4yOrinSO6b",
        "outputId": "4430da57-de9d-43e8-cf34-a3c5ad3f3341"
      },
      "execution_count": null,
      "outputs": [
        {
          "output_type": "stream",
          "name": "stdout",
          "text": [
            "[1, 7, 2]\n"
          ]
        }
      ]
    },
    {
      "cell_type": "code",
      "source": [
        "myvar3 = pd.Series(a, index = [\"x\",\"y\",\"z\"])\n",
        "print(myvar3)"
      ],
      "metadata": {
        "colab": {
          "base_uri": "https://localhost:8080/"
        },
        "id": "vlP-_WFxSZMf",
        "outputId": "2d9a12a2-8f73-4fcf-9eec-bffd52426eb3"
      },
      "execution_count": null,
      "outputs": [
        {
          "output_type": "stream",
          "name": "stdout",
          "text": [
            "x    1\n",
            "y    7\n",
            "z    2\n",
            "dtype: int64\n"
          ]
        }
      ]
    },
    {
      "cell_type": "code",
      "source": [
        "# FOR RETURN Y  value\n",
        "\n",
        "print(myvar3['y'])"
      ],
      "metadata": {
        "colab": {
          "base_uri": "https://localhost:8080/"
        },
        "id": "AhDqSpehS9EZ",
        "outputId": "8737375d-6520-4737-c1b4-b1455d0cbced"
      },
      "execution_count": null,
      "outputs": [
        {
          "output_type": "stream",
          "name": "stdout",
          "text": [
            "7\n"
          ]
        }
      ]
    },
    {
      "cell_type": "code",
      "source": [
        "calories = {\"day1\": 200, \"day2\": 250, \"day3\":500, \"day4\": 700}\n",
        "\n",
        "myvar3 = pd.Series(calories)\n",
        "\n",
        "print(myvar3)"
      ],
      "metadata": {
        "colab": {
          "base_uri": "https://localhost:8080/"
        },
        "id": "-N4XQZpRTVa9",
        "outputId": "569d593c-eba0-4a7e-8bd1-41e14895ab04"
      },
      "execution_count": null,
      "outputs": [
        {
          "output_type": "stream",
          "name": "stdout",
          "text": [
            "day1    200\n",
            "day2    250\n",
            "day3    500\n",
            "day4    700\n",
            "dtype: int64\n"
          ]
        }
      ]
    },
    {
      "cell_type": "code",
      "source": [
        "myvar4 = pd.Series(calories, index=[\"day1\", \"day2\"])\n",
        "print(myvar4)"
      ],
      "metadata": {
        "colab": {
          "base_uri": "https://localhost:8080/"
        },
        "id": "B-VENTRqWvPU",
        "outputId": "226676f3-4a44-4041-8e7e-66bf3be70142"
      },
      "execution_count": null,
      "outputs": [
        {
          "output_type": "stream",
          "name": "stdout",
          "text": [
            "day1    200\n",
            "day2    250\n",
            "dtype: int64\n"
          ]
        }
      ]
    },
    {
      "cell_type": "code",
      "source": [
        "data = {\n",
        "    \"Calory\" : [100, 200, 500, 600],\n",
        "    \"Duration\": [10, 20, 50, 60]\n",
        "}"
      ],
      "metadata": {
        "id": "cYmaNcqkX4Kc"
      },
      "execution_count": null,
      "outputs": []
    },
    {
      "cell_type": "code",
      "source": [
        "myvar5 = pd.DataFrame(data)"
      ],
      "metadata": {
        "id": "W8SVf37BYMHg"
      },
      "execution_count": null,
      "outputs": []
    },
    {
      "cell_type": "code",
      "source": [
        "print(myvar5)"
      ],
      "metadata": {
        "colab": {
          "base_uri": "https://localhost:8080/"
        },
        "id": "JiHuC07KYd73",
        "outputId": "932bf39f-e046-4c1d-f0da-235f271153a6"
      },
      "execution_count": null,
      "outputs": [
        {
          "output_type": "stream",
          "name": "stdout",
          "text": [
            "   Calory  Duration\n",
            "0     100        10\n",
            "1     200        20\n",
            "2     500        50\n",
            "3     600        60\n"
          ]
        }
      ]
    },
    {
      "cell_type": "code",
      "source": [],
      "metadata": {
        "id": "GI171mg4YigR"
      },
      "execution_count": null,
      "outputs": []
    },
    {
      "cell_type": "markdown",
      "source": [
        "#### Plotting  the data\n"
      ],
      "metadata": {
        "id": "Erv18LXuYkkQ"
      }
    },
    {
      "cell_type": "code",
      "source": [],
      "metadata": {
        "id": "YjlFrmn2YrO7"
      },
      "execution_count": null,
      "outputs": []
    },
    {
      "cell_type": "code",
      "source": [
        "import matplotlib.pyplot as plt"
      ],
      "metadata": {
        "id": "8irH2dshYou3"
      },
      "execution_count": null,
      "outputs": []
    },
    {
      "cell_type": "code",
      "source": [
        "data[\"Calory\"]"
      ],
      "metadata": {
        "colab": {
          "base_uri": "https://localhost:8080/"
        },
        "id": "h_pBqjV6Yxdc",
        "outputId": "ec59f75d-e8d2-48b6-dbb7-a9d118d11b3f"
      },
      "execution_count": null,
      "outputs": [
        {
          "output_type": "execute_result",
          "data": {
            "text/plain": [
              "[100, 200, 500, 600]"
            ]
          },
          "metadata": {},
          "execution_count": 20
        }
      ]
    },
    {
      "cell_type": "code",
      "source": [
        "x = data[\"Calory\"]\n",
        "y = data[\"Duration\"]"
      ],
      "metadata": {
        "id": "_-6Q47k4Y-1I"
      },
      "execution_count": null,
      "outputs": []
    },
    {
      "cell_type": "code",
      "source": [
        "x"
      ],
      "metadata": {
        "colab": {
          "base_uri": "https://localhost:8080/"
        },
        "id": "ZKx1UajuZJUy",
        "outputId": "2bdbf0e9-2ac8-4edd-826e-a1ec8a8f13bb"
      },
      "execution_count": null,
      "outputs": [
        {
          "output_type": "execute_result",
          "data": {
            "text/plain": [
              "[100, 200, 500, 600]"
            ]
          },
          "metadata": {},
          "execution_count": 23
        }
      ]
    },
    {
      "cell_type": "code",
      "source": [
        "y"
      ],
      "metadata": {
        "colab": {
          "base_uri": "https://localhost:8080/"
        },
        "id": "yD3dR5EPZK5-",
        "outputId": "8adcd845-34d0-48b6-b455-305ba5b961eb"
      },
      "execution_count": null,
      "outputs": [
        {
          "output_type": "execute_result",
          "data": {
            "text/plain": [
              "[10, 20, 50, 60]"
            ]
          },
          "metadata": {},
          "execution_count": 24
        }
      ]
    },
    {
      "cell_type": "code",
      "source": [
        "plt.plot(x, y)\n",
        "plt.title(\"My data\")\n",
        "plt.xlabel(\"Calory\")\n",
        "plt.ylabel(\"Duration\")\n",
        "plt.show()"
      ],
      "metadata": {
        "colab": {
          "base_uri": "https://localhost:8080/",
          "height": 472
        },
        "id": "LZZM44ZuZMvY",
        "outputId": "3dcc060b-fe31-45f6-ebd9-2983ba2c2a31"
      },
      "execution_count": null,
      "outputs": [
        {
          "output_type": "display_data",
          "data": {
            "text/plain": [
              "<Figure size 640x480 with 1 Axes>"
            ],
            "image/png": "[encoded data removed]"
          },
          "metadata": {}
        }
      ]
    },
    {
      "cell_type": "code",
      "source": [],
      "metadata": {
        "id": "j6ebgJUgav60"
      },
      "execution_count": null,
      "outputs": []
    }
  ]
}